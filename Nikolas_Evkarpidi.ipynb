{
 "cells": [
  {
   "cell_type": "code",
   "execution_count": 29,
   "id": "70f172e7",
   "metadata": {},
   "outputs": [],
   "source": [
    "#!/usr/bin/env python\n",
    "import csv\n",
    "import pandas as pd\n",
    "import scipy.stats\n",
    "import numpy as np\n",
    "\n",
    "lines = []\n",
    "# Reading files and fixing the bugs in collected data\n",
    "with open('/user.csv', 'r') as readFile:\n",
    "    reader = csv.reader(readFile)\n",
    "    for row in reader:\n",
    "        # all rows with len != 3 are wrongly inputed\n",
    "        if len(row) == 3:\n",
    "            lines.append(row)\n",
    "\n",
    "with open('/user_fixed.csv', 'w') as writeFile:\n",
    "    writer = csv.writer(writeFile)\n",
    "    writer.writerows(lines)"
   ]
  },
  {
   "cell_type": "code",
   "execution_count": 30,
   "id": "8142fd0b",
   "metadata": {},
   "outputs": [],
   "source": [
    "# Making up the final table with the data\n",
    "users_df = pd.read_csv(\"/user_fixed.csv\")\n",
    "games_df = pd.read_csv(\"/games.csv\")\n",
    "games_df = games_df.rename(columns=({'id_game': 'GameID'}))\n",
    "users_games_df = pd.merge(users_df, games_df,\n",
    "                          on='GameID',\n",
    "                          how='inner')\n",
    "users_games_df['rating'] = pd.to_numeric(users_games_df['rating'], errors='coerce')\n",
    "users_games_df = users_games_df.dropna()\n",
    "users_games_df = users_games_df.drop(columns=[\"genre\", \"price\", \"title\"])"
   ]
  },
  {
   "cell_type": "code",
   "execution_count": 31,
   "id": "b596e8dc",
   "metadata": {},
   "outputs": [],
   "source": [
    "# Input the user ID, to whom we want to suggest a game\n",
    "inputUser = 1"
   ]
  },
  {
   "cell_type": "code",
   "execution_count": 32,
   "id": "b4a68f75",
   "metadata": {},
   "outputs": [],
   "source": [
    "inputPreferences = users_games_df[users_games_df['UserID'] == inputUser]\n",
    "inputPreferences = inputPreferences.drop(columns=['UserID'])\n",
    "\n",
    "# Subset of users with similar games, which will be used to make a suggestion\n",
    "userSubset = users_games_df[users_games_df['GameID'].isin(inputPreferences['GameID'].tolist())]\n",
    "userSubset = userSubset[userSubset['UserID'] != inputUser]\n",
    "userSubsetGroup = userSubset.groupby(['UserID'])\n",
    "userSubsetGroup = sorted(userSubsetGroup, key=lambda x: len(x[1]), reverse=True)"
   ]
  },
  {
   "cell_type": "code",
   "execution_count": 33,
   "id": "8b36914e",
   "metadata": {},
   "outputs": [],
   "source": [
    "# Calculating Pearson Coefficient\n",
    "\n",
    "pearsonCorrelationDict = {}\n",
    "\n",
    "for name, group in userSubsetGroup:\n",
    "    # Let’s start by sorting the input and current user group\n",
    "    group = group.sort_values(by='GameID')\n",
    "    inputPreferences = inputPreferences.sort_values(by='GameID')\n",
    "\n",
    "    # Get the N for the formula\n",
    "    nRatings = len(group)\n",
    "    # Get the review scores for the games that they both have in common\n",
    "    temp_df = inputPreferences[inputPreferences['GameID'].isin(group['GameID'].tolist())]\n",
    "    # And then store them in a temporary buffer variable in a list format to facilitate future calculations\n",
    "    tempRatingList = temp_df['rating'].tolist()\n",
    "    # Let’s also put the current user group reviews in a list format\n",
    "    tempGroupList = group['rating'].tolist()\n",
    "\n",
    "    no_constants = (np.asarray(tempRatingList) == np.asarray(tempRatingList)[0]).all() \\\n",
    "                       or \\\n",
    "                    (np.asarray(tempGroupList) == np.asarray(tempGroupList[0])).all()\n",
    "    # Now let’s calculate the pearson correlation between two users\n",
    "    if len(tempRatingList) > 1 and len(tempGroupList) > 1 and not no_constants:\n",
    "        corr = scipy.stats.pearsonr(tempRatingList, tempGroupList)[0]\n",
    "        corr = float(corr)\n",
    "        pearsonCorrelationDict[name] = corr\n",
    "    else:\n",
    "        pearsonCorrelationDict[name] = 0\n",
    "\n",
    "pearsonDF = pd.DataFrame.from_dict(pearsonCorrelationDict, orient='index')\n",
    "pearsonDF.columns = ['similarityIndex']\n",
    "pearsonDF['UserID'] = pearsonDF.index\n",
    "pearsonDF.index = range(len(pearsonDF))"
   ]
  },
  {
   "cell_type": "code",
   "execution_count": 34,
   "id": "c0b17dc3",
   "metadata": {},
   "outputs": [],
   "source": [
    "topUsers = pearsonDF.sort_values(by='similarityIndex', ascending=False)\n",
    "topUsersRating = topUsers.merge(users_games_df, left_on='UserID', right_on='UserID', how='inner')\n",
    "\n",
    "topUsersRating['weightedRating'] = topUsersRating['similarityIndex'] * topUsersRating['rating']\n",
    "tempTopUsersRating = topUsersRating.groupby('GameID').sum()[['similarityIndex', 'weightedRating']]\n",
    "tempTopUsersRating.columns = ['sum_similarityIndex', 'sum_weightedRating']"
   ]
  },
  {
   "cell_type": "code",
   "execution_count": 35,
   "id": "025ae317",
   "metadata": {},
   "outputs": [
    {
     "name": "stdout",
     "output_type": "stream",
     "text": [
      "The most confident recommendation: Marco & The Galaxy Dragon(2020)\n"
     ]
    }
   ],
   "source": [
    "recommendation_df = pd.DataFrame()\n",
    "# Calculate the weighted average\n",
    "recommendation_df['weighted rec. score'] = tempTopUsersRating['sum_weightedRating'] / tempTopUsersRating[\n",
    "    'sum_similarityIndex']\n",
    "recommendation_df['GameID'] = tempTopUsersRating.index\n",
    "recommendation_df = recommendation_df.dropna()\n",
    "recommendation_df = recommendation_df[~recommendation_df['GameID'].isin(inputPreferences['GameID'].tolist())]\n",
    "recommendation_df = recommendation_df.sort_values(by='weighted rec. score', ascending=False)\n",
    "\n",
    "top_game = recommendation_df.head(1).astype('int64').values[0][1]\n",
    "top_game = games_df[games_df['GameID'] == top_game]['title']\n",
    "\n",
    "print(\"The most confident recommendation:\", top_game.to_string(index = False))"
   ]
  },
  {
   "cell_type": "code",
   "execution_count": 36,
   "id": "1fcea026",
   "metadata": {},
   "outputs": [
    {
     "name": "stdout",
     "output_type": "stream",
     "text": [
      "The list of games to recommend in no particular order:\n",
      " South Park™: The Stick of Truth™(2014)\n",
      "         Touhou Mystia's Izakaya(2021)\n",
      "                       Duck Game(2015)\n",
      "  Clone Drone in the Danger Zone(2021)\n",
      "                     STEINS;GATE(2016)\n",
      "                         CLANNAD(2004)\n",
      "  Danganronpa 2: Goodbye Despair(2016)\n",
      "           Ultimate Custom Night(2018)\n",
      "                            SOMA(2015)\n",
      "                    NEKOPARA Vol(2017)\n",
      "                    Titanfall® 2(2016)\n",
      "                    NEKOPARA Vol(2020)\n",
      "                   Borderlands 2(2012)\n",
      "          MADNESS: Project Nexus(2021)\n",
      "       Marco & The Galaxy Dragon(2020)\n"
     ]
    }
   ],
   "source": [
    "games_to_recommend = recommendation_df['GameID'].astype('int64').values\n",
    "title_to_recommend = games_df[games_df['GameID'].isin(games_to_recommend.tolist())]['title']\n",
    "\n",
    "\n",
    "print(\"The list of games to recommend in no particular order:\\n\", title_to_recommend.to_string(index = False))"
   ]
  },
  {
   "cell_type": "code",
   "execution_count": null,
   "id": "4122cc39",
   "metadata": {},
   "outputs": [],
   "source": []
  },
  {
   "cell_type": "code",
   "execution_count": null,
   "id": "1f4b32a8",
   "metadata": {},
   "outputs": [],
   "source": []
  }
 ],
 "metadata": {
  "kernelspec": {
   "display_name": "Python 3 (ipykernel)",
   "language": "python",
   "name": "python3"
  },
  "language_info": {
   "codemirror_mode": {
    "name": "ipython",
    "version": 3
   },
   "file_extension": ".py",
   "mimetype": "text/x-python",
   "name": "python",
   "nbconvert_exporter": "python",
   "pygments_lexer": "ipython3",
   "version": "3.9.7"
  }
 },
 "nbformat": 4,
 "nbformat_minor": 5
}
